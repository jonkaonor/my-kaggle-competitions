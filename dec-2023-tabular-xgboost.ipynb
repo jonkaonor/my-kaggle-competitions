{
 "cells": [
  {
   "cell_type": "markdown",
   "id": "504bc5fa",
   "metadata": {
    "papermill": {
     "duration": 0.005363,
     "end_time": "2023-12-22T03:36:33.775813",
     "exception": false,
     "start_time": "2023-12-22T03:36:33.770450",
     "status": "completed"
    },
    "tags": []
   },
   "source": [
    "# Task Overview \n",
    "Task: In this synthetic dataset based off of a real dataset funded by the Mayo Clinic, each example represents both general and survival information about a patient that has liver cirrhosis, a condition involving prolonged liver damage. The goal is to train a machine learning model that can predict the patient's current survival status based on the data features. \n",
    "\n",
    "Approach: Our approach will be to train a Logistic Regression model using sklearn to be used as a baseilne model and to then train a performance-focused model using XGBoost as a learning exercise.  \n",
    "\n",
    "Conclusions: "
   ]
  },
  {
   "cell_type": "code",
   "execution_count": 1,
   "id": "01396efb",
   "metadata": {
    "execution": {
     "iopub.execute_input": "2023-12-22T03:36:33.787160Z",
     "iopub.status.busy": "2023-12-22T03:36:33.786795Z",
     "iopub.status.idle": "2023-12-22T03:36:34.259220Z",
     "shell.execute_reply": "2023-12-22T03:36:34.258211Z"
    },
    "papermill": {
     "duration": 0.48119,
     "end_time": "2023-12-22T03:36:34.261914",
     "exception": false,
     "start_time": "2023-12-22T03:36:33.780724",
     "status": "completed"
    },
    "tags": []
   },
   "outputs": [
    {
     "data": {
      "text/html": [
       "<div>\n",
       "<style scoped>\n",
       "    .dataframe tbody tr th:only-of-type {\n",
       "        vertical-align: middle;\n",
       "    }\n",
       "\n",
       "    .dataframe tbody tr th {\n",
       "        vertical-align: top;\n",
       "    }\n",
       "\n",
       "    .dataframe thead th {\n",
       "        text-align: right;\n",
       "    }\n",
       "</style>\n",
       "<table border=\"1\" class=\"dataframe\">\n",
       "  <thead>\n",
       "    <tr style=\"text-align: right;\">\n",
       "      <th></th>\n",
       "      <th>N_Days</th>\n",
       "      <th>Drug</th>\n",
       "      <th>Age</th>\n",
       "      <th>Sex</th>\n",
       "      <th>Ascites</th>\n",
       "      <th>Hepatomegaly</th>\n",
       "      <th>Spiders</th>\n",
       "      <th>Edema</th>\n",
       "      <th>Bilirubin</th>\n",
       "      <th>Cholesterol</th>\n",
       "      <th>Albumin</th>\n",
       "      <th>Copper</th>\n",
       "      <th>Alk_Phos</th>\n",
       "      <th>SGOT</th>\n",
       "      <th>Tryglicerides</th>\n",
       "      <th>Platelets</th>\n",
       "      <th>Prothrombin</th>\n",
       "      <th>Stage</th>\n",
       "      <th>Status</th>\n",
       "    </tr>\n",
       "  </thead>\n",
       "  <tbody>\n",
       "    <tr>\n",
       "      <th>0</th>\n",
       "      <td>999</td>\n",
       "      <td>D-penicillamine</td>\n",
       "      <td>21532</td>\n",
       "      <td>M</td>\n",
       "      <td>N</td>\n",
       "      <td>N</td>\n",
       "      <td>N</td>\n",
       "      <td>N</td>\n",
       "      <td>2.3</td>\n",
       "      <td>316.0</td>\n",
       "      <td>3.35</td>\n",
       "      <td>172.0</td>\n",
       "      <td>1601.0</td>\n",
       "      <td>179.80</td>\n",
       "      <td>63.0</td>\n",
       "      <td>394.0</td>\n",
       "      <td>9.7</td>\n",
       "      <td>3.0</td>\n",
       "      <td>D</td>\n",
       "    </tr>\n",
       "    <tr>\n",
       "      <th>1</th>\n",
       "      <td>2574</td>\n",
       "      <td>Placebo</td>\n",
       "      <td>19237</td>\n",
       "      <td>F</td>\n",
       "      <td>N</td>\n",
       "      <td>N</td>\n",
       "      <td>N</td>\n",
       "      <td>N</td>\n",
       "      <td>0.9</td>\n",
       "      <td>364.0</td>\n",
       "      <td>3.54</td>\n",
       "      <td>63.0</td>\n",
       "      <td>1440.0</td>\n",
       "      <td>134.85</td>\n",
       "      <td>88.0</td>\n",
       "      <td>361.0</td>\n",
       "      <td>11.0</td>\n",
       "      <td>3.0</td>\n",
       "      <td>C</td>\n",
       "    </tr>\n",
       "    <tr>\n",
       "      <th>2</th>\n",
       "      <td>3428</td>\n",
       "      <td>Placebo</td>\n",
       "      <td>13727</td>\n",
       "      <td>F</td>\n",
       "      <td>N</td>\n",
       "      <td>Y</td>\n",
       "      <td>Y</td>\n",
       "      <td>Y</td>\n",
       "      <td>3.3</td>\n",
       "      <td>299.0</td>\n",
       "      <td>3.55</td>\n",
       "      <td>131.0</td>\n",
       "      <td>1029.0</td>\n",
       "      <td>119.35</td>\n",
       "      <td>50.0</td>\n",
       "      <td>199.0</td>\n",
       "      <td>11.7</td>\n",
       "      <td>4.0</td>\n",
       "      <td>D</td>\n",
       "    </tr>\n",
       "    <tr>\n",
       "      <th>3</th>\n",
       "      <td>2576</td>\n",
       "      <td>Placebo</td>\n",
       "      <td>18460</td>\n",
       "      <td>F</td>\n",
       "      <td>N</td>\n",
       "      <td>N</td>\n",
       "      <td>N</td>\n",
       "      <td>N</td>\n",
       "      <td>0.6</td>\n",
       "      <td>256.0</td>\n",
       "      <td>3.50</td>\n",
       "      <td>58.0</td>\n",
       "      <td>1653.0</td>\n",
       "      <td>71.30</td>\n",
       "      <td>96.0</td>\n",
       "      <td>269.0</td>\n",
       "      <td>10.7</td>\n",
       "      <td>3.0</td>\n",
       "      <td>C</td>\n",
       "    </tr>\n",
       "    <tr>\n",
       "      <th>4</th>\n",
       "      <td>788</td>\n",
       "      <td>Placebo</td>\n",
       "      <td>16658</td>\n",
       "      <td>F</td>\n",
       "      <td>N</td>\n",
       "      <td>Y</td>\n",
       "      <td>N</td>\n",
       "      <td>N</td>\n",
       "      <td>1.1</td>\n",
       "      <td>346.0</td>\n",
       "      <td>3.65</td>\n",
       "      <td>63.0</td>\n",
       "      <td>1181.0</td>\n",
       "      <td>125.55</td>\n",
       "      <td>96.0</td>\n",
       "      <td>298.0</td>\n",
       "      <td>10.6</td>\n",
       "      <td>4.0</td>\n",
       "      <td>C</td>\n",
       "    </tr>\n",
       "  </tbody>\n",
       "</table>\n",
       "</div>"
      ],
      "text/plain": [
       "   N_Days             Drug    Age Sex Ascites Hepatomegaly Spiders Edema  \\\n",
       "0     999  D-penicillamine  21532   M       N            N       N     N   \n",
       "1    2574          Placebo  19237   F       N            N       N     N   \n",
       "2    3428          Placebo  13727   F       N            Y       Y     Y   \n",
       "3    2576          Placebo  18460   F       N            N       N     N   \n",
       "4     788          Placebo  16658   F       N            Y       N     N   \n",
       "\n",
       "   Bilirubin  Cholesterol  Albumin  Copper  Alk_Phos    SGOT  Tryglicerides  \\\n",
       "0        2.3        316.0     3.35   172.0    1601.0  179.80           63.0   \n",
       "1        0.9        364.0     3.54    63.0    1440.0  134.85           88.0   \n",
       "2        3.3        299.0     3.55   131.0    1029.0  119.35           50.0   \n",
       "3        0.6        256.0     3.50    58.0    1653.0   71.30           96.0   \n",
       "4        1.1        346.0     3.65    63.0    1181.0  125.55           96.0   \n",
       "\n",
       "   Platelets  Prothrombin  Stage Status  \n",
       "0      394.0          9.7    3.0      D  \n",
       "1      361.0         11.0    3.0      C  \n",
       "2      199.0         11.7    4.0      D  \n",
       "3      269.0         10.7    3.0      C  \n",
       "4      298.0         10.6    4.0      C  "
      ]
     },
     "execution_count": 1,
     "metadata": {},
     "output_type": "execute_result"
    }
   ],
   "source": [
    "import numpy as np\n",
    "import pandas as pd\n",
    "\n",
    "# Read in the training and test data as Pandas DataFrames \n",
    "train_file_path = \"/kaggle/input/playground-series-s3e26/train.csv\"\n",
    "train_df = pd.read_csv(train_file_path) \n",
    "test_file_path = \"/kaggle/input/playground-series-s3e26/test.csv\"\n",
    "test_df = pd.read_csv(test_file_path)\n",
    "\n",
    "# Remove the id column since it is not useful for prediction\n",
    "test_id_df = test_df['id'].astype(int)\n",
    "train_df = train_df.drop('id', axis=1)\n",
    "test_df = test_df.drop('id', axis=1)\n",
    "\n",
    "\n",
    "train_df.head(5)"
   ]
  },
  {
   "cell_type": "code",
   "execution_count": 2,
   "id": "25fdf12e",
   "metadata": {
    "execution": {
     "iopub.execute_input": "2023-12-22T03:36:34.274994Z",
     "iopub.status.busy": "2023-12-22T03:36:34.274648Z",
     "iopub.status.idle": "2023-12-22T03:36:34.299849Z",
     "shell.execute_reply": "2023-12-22T03:36:34.298608Z"
    },
    "papermill": {
     "duration": 0.034525,
     "end_time": "2023-12-22T03:36:34.302379",
     "exception": false,
     "start_time": "2023-12-22T03:36:34.267854",
     "status": "completed"
    },
    "tags": []
   },
   "outputs": [
    {
     "name": "stdout",
     "output_type": "stream",
     "text": [
      "<class 'pandas.core.frame.DataFrame'>\n",
      "RangeIndex: 7905 entries, 0 to 7904\n",
      "Data columns (total 19 columns):\n",
      " #   Column         Non-Null Count  Dtype  \n",
      "---  ------         --------------  -----  \n",
      " 0   N_Days         7905 non-null   int64  \n",
      " 1   Drug           7905 non-null   object \n",
      " 2   Age            7905 non-null   int64  \n",
      " 3   Sex            7905 non-null   object \n",
      " 4   Ascites        7905 non-null   object \n",
      " 5   Hepatomegaly   7905 non-null   object \n",
      " 6   Spiders        7905 non-null   object \n",
      " 7   Edema          7905 non-null   object \n",
      " 8   Bilirubin      7905 non-null   float64\n",
      " 9   Cholesterol    7905 non-null   float64\n",
      " 10  Albumin        7905 non-null   float64\n",
      " 11  Copper         7905 non-null   float64\n",
      " 12  Alk_Phos       7905 non-null   float64\n",
      " 13  SGOT           7905 non-null   float64\n",
      " 14  Tryglicerides  7905 non-null   float64\n",
      " 15  Platelets      7905 non-null   float64\n",
      " 16  Prothrombin    7905 non-null   float64\n",
      " 17  Stage          7905 non-null   float64\n",
      " 18  Status         7905 non-null   object \n",
      "dtypes: float64(10), int64(2), object(7)\n",
      "memory usage: 1.1+ MB\n"
     ]
    }
   ],
   "source": [
    "train_df.info()\n",
    "\n",
    "# Make a list of categorical columns for future use (in the feature scaling section)\n",
    "categorical_cols = ['Drug', 'Sex', 'Ascites', 'Hepatomegaly', 'Spiders', 'Edema', 'Status']"
   ]
  },
  {
   "cell_type": "code",
   "execution_count": 3,
   "id": "bc81070d",
   "metadata": {
    "execution": {
     "iopub.execute_input": "2023-12-22T03:36:34.315311Z",
     "iopub.status.busy": "2023-12-22T03:36:34.314292Z",
     "iopub.status.idle": "2023-12-22T03:36:34.360947Z",
     "shell.execute_reply": "2023-12-22T03:36:34.359913Z"
    },
    "papermill": {
     "duration": 0.055427,
     "end_time": "2023-12-22T03:36:34.363170",
     "exception": false,
     "start_time": "2023-12-22T03:36:34.307743",
     "status": "completed"
    },
    "tags": []
   },
   "outputs": [
    {
     "data": {
      "text/html": [
       "<div>\n",
       "<style scoped>\n",
       "    .dataframe tbody tr th:only-of-type {\n",
       "        vertical-align: middle;\n",
       "    }\n",
       "\n",
       "    .dataframe tbody tr th {\n",
       "        vertical-align: top;\n",
       "    }\n",
       "\n",
       "    .dataframe thead th {\n",
       "        text-align: right;\n",
       "    }\n",
       "</style>\n",
       "<table border=\"1\" class=\"dataframe\">\n",
       "  <thead>\n",
       "    <tr style=\"text-align: right;\">\n",
       "      <th></th>\n",
       "      <th>N_Days</th>\n",
       "      <th>Age</th>\n",
       "      <th>Bilirubin</th>\n",
       "      <th>Cholesterol</th>\n",
       "      <th>Albumin</th>\n",
       "      <th>Copper</th>\n",
       "      <th>Alk_Phos</th>\n",
       "      <th>SGOT</th>\n",
       "      <th>Tryglicerides</th>\n",
       "      <th>Platelets</th>\n",
       "      <th>Prothrombin</th>\n",
       "      <th>Stage</th>\n",
       "    </tr>\n",
       "  </thead>\n",
       "  <tbody>\n",
       "    <tr>\n",
       "      <th>count</th>\n",
       "      <td>7905.000000</td>\n",
       "      <td>7905.000000</td>\n",
       "      <td>7905.000000</td>\n",
       "      <td>7905.000000</td>\n",
       "      <td>7905.000000</td>\n",
       "      <td>7905.000000</td>\n",
       "      <td>7905.000000</td>\n",
       "      <td>7905.000000</td>\n",
       "      <td>7905.000000</td>\n",
       "      <td>7905.000000</td>\n",
       "      <td>7905.000000</td>\n",
       "      <td>7905.000000</td>\n",
       "    </tr>\n",
       "    <tr>\n",
       "      <th>mean</th>\n",
       "      <td>2030.173308</td>\n",
       "      <td>18373.146490</td>\n",
       "      <td>2.594485</td>\n",
       "      <td>350.561923</td>\n",
       "      <td>3.548323</td>\n",
       "      <td>83.902846</td>\n",
       "      <td>1816.745250</td>\n",
       "      <td>114.604602</td>\n",
       "      <td>115.340164</td>\n",
       "      <td>265.228969</td>\n",
       "      <td>10.629462</td>\n",
       "      <td>3.032511</td>\n",
       "    </tr>\n",
       "    <tr>\n",
       "      <th>std</th>\n",
       "      <td>1094.233744</td>\n",
       "      <td>3679.958739</td>\n",
       "      <td>3.812960</td>\n",
       "      <td>195.379344</td>\n",
       "      <td>0.346171</td>\n",
       "      <td>75.899266</td>\n",
       "      <td>1903.750657</td>\n",
       "      <td>48.790945</td>\n",
       "      <td>52.530402</td>\n",
       "      <td>87.465579</td>\n",
       "      <td>0.781735</td>\n",
       "      <td>0.866511</td>\n",
       "    </tr>\n",
       "    <tr>\n",
       "      <th>min</th>\n",
       "      <td>41.000000</td>\n",
       "      <td>9598.000000</td>\n",
       "      <td>0.300000</td>\n",
       "      <td>120.000000</td>\n",
       "      <td>1.960000</td>\n",
       "      <td>4.000000</td>\n",
       "      <td>289.000000</td>\n",
       "      <td>26.350000</td>\n",
       "      <td>33.000000</td>\n",
       "      <td>62.000000</td>\n",
       "      <td>9.000000</td>\n",
       "      <td>1.000000</td>\n",
       "    </tr>\n",
       "    <tr>\n",
       "      <th>25%</th>\n",
       "      <td>1230.000000</td>\n",
       "      <td>15574.000000</td>\n",
       "      <td>0.700000</td>\n",
       "      <td>248.000000</td>\n",
       "      <td>3.350000</td>\n",
       "      <td>39.000000</td>\n",
       "      <td>834.000000</td>\n",
       "      <td>75.950000</td>\n",
       "      <td>84.000000</td>\n",
       "      <td>211.000000</td>\n",
       "      <td>10.000000</td>\n",
       "      <td>2.000000</td>\n",
       "    </tr>\n",
       "    <tr>\n",
       "      <th>50%</th>\n",
       "      <td>1831.000000</td>\n",
       "      <td>18713.000000</td>\n",
       "      <td>1.100000</td>\n",
       "      <td>298.000000</td>\n",
       "      <td>3.580000</td>\n",
       "      <td>63.000000</td>\n",
       "      <td>1181.000000</td>\n",
       "      <td>108.500000</td>\n",
       "      <td>104.000000</td>\n",
       "      <td>265.000000</td>\n",
       "      <td>10.600000</td>\n",
       "      <td>3.000000</td>\n",
       "    </tr>\n",
       "    <tr>\n",
       "      <th>75%</th>\n",
       "      <td>2689.000000</td>\n",
       "      <td>20684.000000</td>\n",
       "      <td>3.000000</td>\n",
       "      <td>390.000000</td>\n",
       "      <td>3.770000</td>\n",
       "      <td>102.000000</td>\n",
       "      <td>1857.000000</td>\n",
       "      <td>137.950000</td>\n",
       "      <td>139.000000</td>\n",
       "      <td>316.000000</td>\n",
       "      <td>11.000000</td>\n",
       "      <td>4.000000</td>\n",
       "    </tr>\n",
       "    <tr>\n",
       "      <th>max</th>\n",
       "      <td>4795.000000</td>\n",
       "      <td>28650.000000</td>\n",
       "      <td>28.000000</td>\n",
       "      <td>1775.000000</td>\n",
       "      <td>4.640000</td>\n",
       "      <td>588.000000</td>\n",
       "      <td>13862.400000</td>\n",
       "      <td>457.250000</td>\n",
       "      <td>598.000000</td>\n",
       "      <td>563.000000</td>\n",
       "      <td>18.000000</td>\n",
       "      <td>4.000000</td>\n",
       "    </tr>\n",
       "  </tbody>\n",
       "</table>\n",
       "</div>"
      ],
      "text/plain": [
       "            N_Days           Age    Bilirubin  Cholesterol      Albumin  \\\n",
       "count  7905.000000   7905.000000  7905.000000  7905.000000  7905.000000   \n",
       "mean   2030.173308  18373.146490     2.594485   350.561923     3.548323   \n",
       "std    1094.233744   3679.958739     3.812960   195.379344     0.346171   \n",
       "min      41.000000   9598.000000     0.300000   120.000000     1.960000   \n",
       "25%    1230.000000  15574.000000     0.700000   248.000000     3.350000   \n",
       "50%    1831.000000  18713.000000     1.100000   298.000000     3.580000   \n",
       "75%    2689.000000  20684.000000     3.000000   390.000000     3.770000   \n",
       "max    4795.000000  28650.000000    28.000000  1775.000000     4.640000   \n",
       "\n",
       "            Copper      Alk_Phos         SGOT  Tryglicerides    Platelets  \\\n",
       "count  7905.000000   7905.000000  7905.000000    7905.000000  7905.000000   \n",
       "mean     83.902846   1816.745250   114.604602     115.340164   265.228969   \n",
       "std      75.899266   1903.750657    48.790945      52.530402    87.465579   \n",
       "min       4.000000    289.000000    26.350000      33.000000    62.000000   \n",
       "25%      39.000000    834.000000    75.950000      84.000000   211.000000   \n",
       "50%      63.000000   1181.000000   108.500000     104.000000   265.000000   \n",
       "75%     102.000000   1857.000000   137.950000     139.000000   316.000000   \n",
       "max     588.000000  13862.400000   457.250000     598.000000   563.000000   \n",
       "\n",
       "       Prothrombin        Stage  \n",
       "count  7905.000000  7905.000000  \n",
       "mean     10.629462     3.032511  \n",
       "std       0.781735     0.866511  \n",
       "min       9.000000     1.000000  \n",
       "25%      10.000000     2.000000  \n",
       "50%      10.600000     3.000000  \n",
       "75%      11.000000     4.000000  \n",
       "max      18.000000     4.000000  "
      ]
     },
     "execution_count": 3,
     "metadata": {},
     "output_type": "execute_result"
    }
   ],
   "source": [
    "train_df.describe()"
   ]
  },
  {
   "cell_type": "markdown",
   "id": "52d038c0",
   "metadata": {
    "papermill": {
     "duration": 0.005386,
     "end_time": "2023-12-22T03:36:34.374287",
     "exception": false,
     "start_time": "2023-12-22T03:36:34.368901",
     "status": "completed"
    },
    "tags": []
   },
   "source": [
    "## Dataset Pre-Processing\n",
    "Task Overview\n",
    "1. Target Variable Label Encoding \n",
    "2. Missing Feature Value Handling (Unnecessary for XGBoost)\n",
    "3. Feature Scaling (Unnecessary for XGBoost)\n",
    "4. Categorical Attribute Handling (Should be done at the end since it may change the number of columns)\n",
    "5. Train/Test Split"
   ]
  },
  {
   "cell_type": "markdown",
   "id": "56272f9a",
   "metadata": {
    "papermill": {
     "duration": 0.005325,
     "end_time": "2023-12-22T03:36:34.385304",
     "exception": false,
     "start_time": "2023-12-22T03:36:34.379979",
     "status": "completed"
    },
    "tags": []
   },
   "source": [
    "# Target Variable Label Encoding\n",
    "\n",
    "Problem: Since the target column (Status) is a text column, we need to convert the values into integers.\n",
    "\n",
    "Approaches:\n",
    "1. Label Encoding - Convert each text category into an integer label. \n",
    "2. Ordinal Encoding - Convert each text category into an integer label but with a particular order. Used when the categories have some quantitative order that can be taken advantage of.   \n",
    "3. One-Hot Encoding - Convert each text category into a separate column. For example, this is done in the softmax layer of a neural network. \n",
    "\n",
    "Solution: There is no obvious ordering in the 'Status' column and ML libraries typically expect a single target column so we will use label encoding."
   ]
  },
  {
   "cell_type": "code",
   "execution_count": 4,
   "id": "a787831c",
   "metadata": {
    "execution": {
     "iopub.execute_input": "2023-12-22T03:36:34.398551Z",
     "iopub.status.busy": "2023-12-22T03:36:34.397797Z",
     "iopub.status.idle": "2023-12-22T03:36:34.406327Z",
     "shell.execute_reply": "2023-12-22T03:36:34.405321Z"
    },
    "papermill": {
     "duration": 0.017628,
     "end_time": "2023-12-22T03:36:34.408561",
     "exception": false,
     "start_time": "2023-12-22T03:36:34.390933",
     "status": "completed"
    },
    "tags": []
   },
   "outputs": [
    {
     "data": {
      "text/plain": [
       "Status\n",
       "C     4965\n",
       "D     2665\n",
       "CL     275\n",
       "Name: count, dtype: int64"
      ]
     },
     "execution_count": 4,
     "metadata": {},
     "output_type": "execute_result"
    }
   ],
   "source": [
    "train_df['Status'].value_counts()"
   ]
  },
  {
   "cell_type": "code",
   "execution_count": 5,
   "id": "88375965",
   "metadata": {
    "execution": {
     "iopub.execute_input": "2023-12-22T03:36:34.421838Z",
     "iopub.status.busy": "2023-12-22T03:36:34.421478Z",
     "iopub.status.idle": "2023-12-22T03:36:35.483821Z",
     "shell.execute_reply": "2023-12-22T03:36:35.482727Z"
    },
    "papermill": {
     "duration": 1.07177,
     "end_time": "2023-12-22T03:36:35.486097",
     "exception": false,
     "start_time": "2023-12-22T03:36:34.414327",
     "status": "completed"
    },
    "tags": []
   },
   "outputs": [
    {
     "data": {
      "text/plain": [
       "Status\n",
       "0    4965\n",
       "2    2665\n",
       "1     275\n",
       "Name: count, dtype: int64"
      ]
     },
     "execution_count": 5,
     "metadata": {},
     "output_type": "execute_result"
    }
   ],
   "source": [
    "from sklearn.preprocessing import LabelEncoder\n",
    "\n",
    "label_encoder = LabelEncoder() \n",
    "train_df['Status'] = label_encoder.fit_transform(train_df['Status'])\n",
    "\n",
    "# Check that the label encoder transformation was applied correctly\n",
    "train_df['Status'].value_counts()"
   ]
  },
  {
   "cell_type": "markdown",
   "id": "acf50be1",
   "metadata": {
    "papermill": {
     "duration": 0.005621,
     "end_time": "2023-12-22T03:36:35.497755",
     "exception": false,
     "start_time": "2023-12-22T03:36:35.492134",
     "status": "completed"
    },
    "tags": []
   },
   "source": [
    "## Missing Feature Value Handling\n",
    "\n",
    "Problem: We need to check if there are any missing feature values and handle the problem accordingly.\n",
    "\n",
    "Solution: Since we are using XGBoost, we do not need to do dataset pre-processing for missing feature values since XGBoost's implementation automatically handles them. We still check for missing feature values for practice by using the isna DataFrame method which returns a boolean DataFrame where each cell is True if the value is missing and False otherwise. We then apply the sum method to find the number of missing values in each column. "
   ]
  },
  {
   "cell_type": "code",
   "execution_count": 6,
   "id": "c2277d09",
   "metadata": {
    "execution": {
     "iopub.execute_input": "2023-12-22T03:36:35.511782Z",
     "iopub.status.busy": "2023-12-22T03:36:35.510851Z",
     "iopub.status.idle": "2023-12-22T03:36:35.521751Z",
     "shell.execute_reply": "2023-12-22T03:36:35.520097Z"
    },
    "papermill": {
     "duration": 0.020284,
     "end_time": "2023-12-22T03:36:35.523856",
     "exception": false,
     "start_time": "2023-12-22T03:36:35.503572",
     "status": "completed"
    },
    "tags": []
   },
   "outputs": [
    {
     "name": "stdout",
     "output_type": "stream",
     "text": [
      "Number of missing feature values by column: \n",
      "N_Days           0\n",
      "Drug             0\n",
      "Age              0\n",
      "Sex              0\n",
      "Ascites          0\n",
      "Hepatomegaly     0\n",
      "Spiders          0\n",
      "Edema            0\n",
      "Bilirubin        0\n",
      "Cholesterol      0\n",
      "Albumin          0\n",
      "Copper           0\n",
      "Alk_Phos         0\n",
      "SGOT             0\n",
      "Tryglicerides    0\n",
      "Platelets        0\n",
      "Prothrombin      0\n",
      "Stage            0\n",
      "Status           0\n",
      "dtype: int64\n"
     ]
    }
   ],
   "source": [
    "# Check for missing feature values\n",
    "print(\"Number of missing feature values by column: \")\n",
    "print(train_df.isna().sum())"
   ]
  },
  {
   "cell_type": "code",
   "execution_count": 7,
   "id": "df5c06ce",
   "metadata": {
    "execution": {
     "iopub.execute_input": "2023-12-22T03:36:35.538229Z",
     "iopub.status.busy": "2023-12-22T03:36:35.537470Z",
     "iopub.status.idle": "2023-12-22T03:36:35.545563Z",
     "shell.execute_reply": "2023-12-22T03:36:35.544390Z"
    },
    "papermill": {
     "duration": 0.017833,
     "end_time": "2023-12-22T03:36:35.547742",
     "exception": false,
     "start_time": "2023-12-22T03:36:35.529909",
     "status": "completed"
    },
    "tags": []
   },
   "outputs": [
    {
     "name": "stdout",
     "output_type": "stream",
     "text": [
      "Number of missing feature values by column in test data: 0\n"
     ]
    }
   ],
   "source": [
    "print(\"Number of missing feature values by column in test data:\", test_df.isna().sum().sum())"
   ]
  },
  {
   "cell_type": "markdown",
   "id": "0d33e4a5",
   "metadata": {
    "papermill": {
     "duration": 0.005828,
     "end_time": "2023-12-22T03:36:35.559777",
     "exception": false,
     "start_time": "2023-12-22T03:36:35.553949",
     "status": "completed"
    },
    "tags": []
   },
   "source": [
    "## Feature Scaling\n",
    "\n",
    "Problem: Typically since feature column values are combined to create the final classification, the ML model will perform better if the features are on the same scale. \n",
    "\n",
    "Approaches: \n",
    "1. Min-Max Scaling - Scales the data to a fixed range between two values (typically 0 and 1). Most useful for neural networks.\n",
    "2. Standardization (Z-score Normalization) - Scales the data so that the mean is 0 and the standard deviation is 1. Most useful for algorithms that assume a normal distribution of data, such as SVMs and logistic regression.\n",
    "3. Robust Scaling - Scaling based on median and IQR. Most useful for handling significant outliers\n",
    "4. MaxAbsScaler - Scales each feature based on its maximum absolute value. Useful for sparse data. \n",
    "\n",
    "Solution: Since XGBoost's decision tree classification uses splitting which occurs within a column, different column values do not interact with each other and therefore scaling the features is not necessary. However, since we are using Logistic Regression as our baseline model and features do interact in training we will need to do feature scaling. Since we doing feature scaling specifically for our logistic regression model we will use the Standardization approach. "
   ]
  },
  {
   "cell_type": "code",
   "execution_count": 8,
   "id": "4b3ae209",
   "metadata": {
    "execution": {
     "iopub.execute_input": "2023-12-22T03:36:35.573924Z",
     "iopub.status.busy": "2023-12-22T03:36:35.573074Z",
     "iopub.status.idle": "2023-12-22T03:36:35.631490Z",
     "shell.execute_reply": "2023-12-22T03:36:35.630484Z"
    },
    "papermill": {
     "duration": 0.068061,
     "end_time": "2023-12-22T03:36:35.633884",
     "exception": false,
     "start_time": "2023-12-22T03:36:35.565823",
     "status": "completed"
    },
    "tags": []
   },
   "outputs": [
    {
     "data": {
      "text/html": [
       "<div>\n",
       "<style scoped>\n",
       "    .dataframe tbody tr th:only-of-type {\n",
       "        vertical-align: middle;\n",
       "    }\n",
       "\n",
       "    .dataframe tbody tr th {\n",
       "        vertical-align: top;\n",
       "    }\n",
       "\n",
       "    .dataframe thead th {\n",
       "        text-align: right;\n",
       "    }\n",
       "</style>\n",
       "<table border=\"1\" class=\"dataframe\">\n",
       "  <thead>\n",
       "    <tr style=\"text-align: right;\">\n",
       "      <th></th>\n",
       "      <th>N_Days</th>\n",
       "      <th>Age</th>\n",
       "      <th>Bilirubin</th>\n",
       "      <th>Cholesterol</th>\n",
       "      <th>Albumin</th>\n",
       "      <th>Copper</th>\n",
       "      <th>Alk_Phos</th>\n",
       "      <th>SGOT</th>\n",
       "      <th>Tryglicerides</th>\n",
       "      <th>Platelets</th>\n",
       "      <th>Prothrombin</th>\n",
       "      <th>Stage</th>\n",
       "    </tr>\n",
       "  </thead>\n",
       "  <tbody>\n",
       "    <tr>\n",
       "      <th>count</th>\n",
       "      <td>5271.000000</td>\n",
       "      <td>5271.000000</td>\n",
       "      <td>5271.000000</td>\n",
       "      <td>5271.000000</td>\n",
       "      <td>5271.000000</td>\n",
       "      <td>5271.000000</td>\n",
       "      <td>5271.000000</td>\n",
       "      <td>5271.000000</td>\n",
       "      <td>5271.000000</td>\n",
       "      <td>5271.000000</td>\n",
       "      <td>5271.000000</td>\n",
       "      <td>5271.000000</td>\n",
       "    </tr>\n",
       "    <tr>\n",
       "      <th>mean</th>\n",
       "      <td>0.007790</td>\n",
       "      <td>0.033864</td>\n",
       "      <td>0.001549</td>\n",
       "      <td>0.009851</td>\n",
       "      <td>-0.029617</td>\n",
       "      <td>0.010526</td>\n",
       "      <td>-0.002895</td>\n",
       "      <td>-0.020847</td>\n",
       "      <td>-0.001029</td>\n",
       "      <td>-0.013781</td>\n",
       "      <td>0.004353</td>\n",
       "      <td>0.005175</td>\n",
       "    </tr>\n",
       "    <tr>\n",
       "      <th>std</th>\n",
       "      <td>0.993309</td>\n",
       "      <td>0.973958</td>\n",
       "      <td>1.010406</td>\n",
       "      <td>1.025961</td>\n",
       "      <td>1.025240</td>\n",
       "      <td>1.021709</td>\n",
       "      <td>1.016664</td>\n",
       "      <td>1.003627</td>\n",
       "      <td>1.001441</td>\n",
       "      <td>1.001418</td>\n",
       "      <td>1.014105</td>\n",
       "      <td>0.987967</td>\n",
       "    </tr>\n",
       "    <tr>\n",
       "      <th>min</th>\n",
       "      <td>-1.817984</td>\n",
       "      <td>-2.384728</td>\n",
       "      <td>-0.601797</td>\n",
       "      <td>-1.180148</td>\n",
       "      <td>-4.588553</td>\n",
       "      <td>-1.052815</td>\n",
       "      <td>-0.802543</td>\n",
       "      <td>-1.808946</td>\n",
       "      <td>-1.567576</td>\n",
       "      <td>-2.323678</td>\n",
       "      <td>-2.084550</td>\n",
       "      <td>-2.345776</td>\n",
       "    </tr>\n",
       "    <tr>\n",
       "      <th>25%</th>\n",
       "      <td>-0.727654</td>\n",
       "      <td>-0.718300</td>\n",
       "      <td>-0.496885</td>\n",
       "      <td>-0.524971</td>\n",
       "      <td>-0.572940</td>\n",
       "      <td>-0.591648</td>\n",
       "      <td>-0.522026</td>\n",
       "      <td>-0.811772</td>\n",
       "      <td>-0.596648</td>\n",
       "      <td>-0.642910</td>\n",
       "      <td>-0.805263</td>\n",
       "      <td>-1.191649</td>\n",
       "    </tr>\n",
       "    <tr>\n",
       "      <th>50%</th>\n",
       "      <td>-0.135421</td>\n",
       "      <td>0.117632</td>\n",
       "      <td>-0.391973</td>\n",
       "      <td>-0.263923</td>\n",
       "      <td>0.062625</td>\n",
       "      <td>-0.249068</td>\n",
       "      <td>-0.354452</td>\n",
       "      <td>-0.156896</td>\n",
       "      <td>-0.215892</td>\n",
       "      <td>-0.071221</td>\n",
       "      <td>-0.037691</td>\n",
       "      <td>-0.037522</td>\n",
       "    </tr>\n",
       "    <tr>\n",
       "      <th>75%</th>\n",
       "      <td>0.604869</td>\n",
       "      <td>0.627996</td>\n",
       "      <td>0.106359</td>\n",
       "      <td>0.201867</td>\n",
       "      <td>0.640411</td>\n",
       "      <td>0.238452</td>\n",
       "      <td>0.011428</td>\n",
       "      <td>0.478508</td>\n",
       "      <td>0.431393</td>\n",
       "      <td>0.591939</td>\n",
       "      <td>0.474024</td>\n",
       "      <td>1.116605</td>\n",
       "    </tr>\n",
       "    <tr>\n",
       "      <th>max</th>\n",
       "      <td>2.526884</td>\n",
       "      <td>2.792831</td>\n",
       "      <td>6.663359</td>\n",
       "      <td>7.291089</td>\n",
       "      <td>3.153780</td>\n",
       "      <td>6.642081</td>\n",
       "      <td>6.327728</td>\n",
       "      <td>7.023169</td>\n",
       "      <td>9.188781</td>\n",
       "      <td>3.404652</td>\n",
       "      <td>5.847030</td>\n",
       "      <td>1.116605</td>\n",
       "    </tr>\n",
       "  </tbody>\n",
       "</table>\n",
       "</div>"
      ],
      "text/plain": [
       "            N_Days          Age    Bilirubin  Cholesterol      Albumin  \\\n",
       "count  5271.000000  5271.000000  5271.000000  5271.000000  5271.000000   \n",
       "mean      0.007790     0.033864     0.001549     0.009851    -0.029617   \n",
       "std       0.993309     0.973958     1.010406     1.025961     1.025240   \n",
       "min      -1.817984    -2.384728    -0.601797    -1.180148    -4.588553   \n",
       "25%      -0.727654    -0.718300    -0.496885    -0.524971    -0.572940   \n",
       "50%      -0.135421     0.117632    -0.391973    -0.263923     0.062625   \n",
       "75%       0.604869     0.627996     0.106359     0.201867     0.640411   \n",
       "max       2.526884     2.792831     6.663359     7.291089     3.153780   \n",
       "\n",
       "            Copper     Alk_Phos         SGOT  Tryglicerides    Platelets  \\\n",
       "count  5271.000000  5271.000000  5271.000000    5271.000000  5271.000000   \n",
       "mean      0.010526    -0.002895    -0.020847      -0.001029    -0.013781   \n",
       "std       1.021709     1.016664     1.003627       1.001441     1.001418   \n",
       "min      -1.052815    -0.802543    -1.808946      -1.567576    -2.323678   \n",
       "25%      -0.591648    -0.522026    -0.811772      -0.596648    -0.642910   \n",
       "50%      -0.249068    -0.354452    -0.156896      -0.215892    -0.071221   \n",
       "75%       0.238452     0.011428     0.478508       0.431393     0.591939   \n",
       "max       6.642081     6.327728     7.023169       9.188781     3.404652   \n",
       "\n",
       "       Prothrombin        Stage  \n",
       "count  5271.000000  5271.000000  \n",
       "mean      0.004353     0.005175  \n",
       "std       1.014105     0.987967  \n",
       "min      -2.084550    -2.345776  \n",
       "25%      -0.805263    -1.191649  \n",
       "50%      -0.037691    -0.037522  \n",
       "75%       0.474024     1.116605  \n",
       "max       5.847030     1.116605  "
      ]
     },
     "execution_count": 8,
     "metadata": {},
     "output_type": "execute_result"
    }
   ],
   "source": [
    "from sklearn.preprocessing import StandardScaler \n",
    "\n",
    "numerical_cols = train_df.columns.difference(categorical_cols)\n",
    "\n",
    "std_scaler = StandardScaler() \n",
    "std_scaler.fit(train_df[numerical_cols])\n",
    "\n",
    "train_df[numerical_cols] = std_scaler.transform(train_df[numerical_cols])\n",
    "test_df[numerical_cols] = std_scaler.transform(test_df[numerical_cols])\n",
    "                      \n",
    "# Confirm the transformation was successful by seeing if the mean = 0 and std = 1 for numerical columns\n",
    "test_df.describe()"
   ]
  },
  {
   "cell_type": "markdown",
   "id": "9c528664",
   "metadata": {
    "papermill": {
     "duration": 0.006036,
     "end_time": "2023-12-22T03:36:35.646119",
     "exception": false,
     "start_time": "2023-12-22T03:36:35.640083",
     "status": "completed"
    },
    "tags": []
   },
   "source": [
    "## Categorical Attributes/Columns \n",
    "Problem: We use the DataFrame info method to find that there are six categorical columns: drug, sex, ascites, hepatomegaly, spiders, edema which we need to convert from text into numerical values.\n",
    "\n",
    "Solution: The main approaches for categorical attribute handling are \n",
    "1. Ordinal Encoding - Useful when the categories correspond to an ascending or descending order. \n",
    "2. One-Hot Encoding - For each categorical column, convert it into multiple columns, one for each possible category. This is used when the categories do not have an obvious logical order. \n",
    "3. Numerical Feature Replacement (Advanced) - In cases where the number of categories is cery large (hundreds or thousands) one should consider replacing the categorical columns with a numerical column that converts each category into some number. For example, one could convert a country code into the country's population. \n",
    "4. Embedding Replacement (Advanced) - Alternatively, one can replace categories with embeddings, which are low dimensional vectors that represent the category. \n",
    "\n",
    "In this case, we use a one-hot encoding since none of the categories seem to have a logical order and the number of categories is low (under 10 for all categorical columns)"
   ]
  },
  {
   "cell_type": "code",
   "execution_count": 9,
   "id": "24038103",
   "metadata": {
    "execution": {
     "iopub.execute_input": "2023-12-22T03:36:35.660381Z",
     "iopub.status.busy": "2023-12-22T03:36:35.659559Z",
     "iopub.status.idle": "2023-12-22T03:36:35.676012Z",
     "shell.execute_reply": "2023-12-22T03:36:35.674874Z"
    },
    "papermill": {
     "duration": 0.025914,
     "end_time": "2023-12-22T03:36:35.678140",
     "exception": false,
     "start_time": "2023-12-22T03:36:35.652226",
     "status": "completed"
    },
    "tags": []
   },
   "outputs": [
    {
     "name": "stdout",
     "output_type": "stream",
     "text": [
      "N_Days           461\n",
      "Drug               2\n",
      "Age              391\n",
      "Sex                2\n",
      "Ascites            2\n",
      "Hepatomegaly       2\n",
      "Spiders            2\n",
      "Edema              3\n",
      "Bilirubin        111\n",
      "Cholesterol      226\n",
      "Albumin          160\n",
      "Copper           171\n",
      "Alk_Phos         364\n",
      "SGOT             206\n",
      "Tryglicerides    154\n",
      "Platelets        227\n",
      "Prothrombin       49\n",
      "Stage              4\n",
      "Status             3\n",
      "dtype: int64\n"
     ]
    }
   ],
   "source": [
    "# Confirm that the number of categories in the categorical columns is manageable (< 100)\n",
    "unique_values_per_column = train_df.nunique()\n",
    "\n",
    "print(unique_values_per_column)"
   ]
  },
  {
   "cell_type": "code",
   "execution_count": 10,
   "id": "51a73f1c",
   "metadata": {
    "execution": {
     "iopub.execute_input": "2023-12-22T03:36:35.692952Z",
     "iopub.status.busy": "2023-12-22T03:36:35.692053Z",
     "iopub.status.idle": "2023-12-22T03:36:35.729190Z",
     "shell.execute_reply": "2023-12-22T03:36:35.727931Z"
    },
    "papermill": {
     "duration": 0.046942,
     "end_time": "2023-12-22T03:36:35.731515",
     "exception": false,
     "start_time": "2023-12-22T03:36:35.684573",
     "status": "completed"
    },
    "tags": []
   },
   "outputs": [
    {
     "name": "stdout",
     "output_type": "stream",
     "text": [
      "<class 'pandas.core.frame.DataFrame'>\n",
      "RangeIndex: 5271 entries, 0 to 5270\n",
      "Data columns (total 25 columns):\n",
      " #   Column                Non-Null Count  Dtype  \n",
      "---  ------                --------------  -----  \n",
      " 0   N_Days                5271 non-null   float64\n",
      " 1   Age                   5271 non-null   float64\n",
      " 2   Bilirubin             5271 non-null   float64\n",
      " 3   Cholesterol           5271 non-null   float64\n",
      " 4   Albumin               5271 non-null   float64\n",
      " 5   Copper                5271 non-null   float64\n",
      " 6   Alk_Phos              5271 non-null   float64\n",
      " 7   SGOT                  5271 non-null   float64\n",
      " 8   Tryglicerides         5271 non-null   float64\n",
      " 9   Platelets             5271 non-null   float64\n",
      " 10  Prothrombin           5271 non-null   float64\n",
      " 11  Stage                 5271 non-null   float64\n",
      " 12  Drug_D-penicillamine  5271 non-null   bool   \n",
      " 13  Drug_Placebo          5271 non-null   bool   \n",
      " 14  Sex_F                 5271 non-null   bool   \n",
      " 15  Sex_M                 5271 non-null   bool   \n",
      " 16  Ascites_N             5271 non-null   bool   \n",
      " 17  Ascites_Y             5271 non-null   bool   \n",
      " 18  Hepatomegaly_N        5271 non-null   bool   \n",
      " 19  Hepatomegaly_Y        5271 non-null   bool   \n",
      " 20  Spiders_N             5271 non-null   bool   \n",
      " 21  Spiders_Y             5271 non-null   bool   \n",
      " 22  Edema_N               5271 non-null   bool   \n",
      " 23  Edema_S               5271 non-null   bool   \n",
      " 24  Edema_Y               5271 non-null   bool   \n",
      "dtypes: bool(13), float64(12)\n",
      "memory usage: 561.2 KB\n"
     ]
    }
   ],
   "source": [
    "# Convert the categorical columns into one-hot encodings\n",
    "status = train_df['Status']\n",
    "train_df_dummies = pd.get_dummies(train_df.drop('Status', axis=1))\n",
    "train_df = pd.concat([train_df_dummies, status], axis=1)\n",
    "test_df = pd.get_dummies(test_df)\n",
    "\n",
    "# Confirm the transformation was successful\n",
    "test_df.info()"
   ]
  },
  {
   "cell_type": "markdown",
   "id": "b0d60e82",
   "metadata": {
    "papermill": {
     "duration": 0.00626,
     "end_time": "2023-12-22T03:36:35.744795",
     "exception": false,
     "start_time": "2023-12-22T03:36:35.738535",
     "status": "completed"
    },
    "tags": []
   },
   "source": [
    "# Train/Test Split\n",
    "\n",
    "Problem: We need to split the dataset into a training dataset and a testing/tuning dataset.\n",
    "\n",
    "Solution: We wait until all dataset pre-processing is done (to avoid needing to pre-process the train/test datasets separately) and then split the dataset using sklearn's train_test_split function. "
   ]
  },
  {
   "cell_type": "code",
   "execution_count": 11,
   "id": "43fd5d7b",
   "metadata": {
    "execution": {
     "iopub.execute_input": "2023-12-22T03:36:35.759701Z",
     "iopub.status.busy": "2023-12-22T03:36:35.759010Z",
     "iopub.status.idle": "2023-12-22T03:36:35.863144Z",
     "shell.execute_reply": "2023-12-22T03:36:35.862295Z"
    },
    "papermill": {
     "duration": 0.113967,
     "end_time": "2023-12-22T03:36:35.865433",
     "exception": false,
     "start_time": "2023-12-22T03:36:35.751466",
     "status": "completed"
    },
    "tags": []
   },
   "outputs": [],
   "source": [
    "from sklearn.model_selection import train_test_split\n",
    "\n",
    "# Split the training set into a training and test set \n",
    "X = train_df.drop(\"Status\", axis=1)\n",
    "y = train_df[\"Status\"]\n",
    "\n",
    "X_train, X_test, y_train, y_test = train_test_split(X, y,  test_size = 0.2)"
   ]
  },
  {
   "cell_type": "markdown",
   "id": "1ed57274",
   "metadata": {
    "papermill": {
     "duration": 0.006308,
     "end_time": "2023-12-22T03:36:35.878335",
     "exception": false,
     "start_time": "2023-12-22T03:36:35.872027",
     "status": "completed"
    },
    "tags": []
   },
   "source": [
    "# Logistic Regression Baseline Model Training Tasks\n",
    "1. Train the Logistic Regression modle using sklearn\n",
    "2. Evaluate the results "
   ]
  },
  {
   "cell_type": "code",
   "execution_count": 12,
   "id": "a8697853",
   "metadata": {
    "execution": {
     "iopub.execute_input": "2023-12-22T03:36:35.892766Z",
     "iopub.status.busy": "2023-12-22T03:36:35.892341Z",
     "iopub.status.idle": "2023-12-22T03:36:36.364015Z",
     "shell.execute_reply": "2023-12-22T03:36:36.362917Z"
    },
    "papermill": {
     "duration": 0.482493,
     "end_time": "2023-12-22T03:36:36.367217",
     "exception": false,
     "start_time": "2023-12-22T03:36:35.884724",
     "status": "completed"
    },
    "tags": []
   },
   "outputs": [
    {
     "name": "stdout",
     "output_type": "stream",
     "text": [
      "[[0.8355211  0.01168076 0.15279814]\n",
      " [0.8726466  0.03659344 0.09075996]\n",
      " [0.05280175 0.02772749 0.91947076]\n",
      " ...\n",
      " [0.84435891 0.01785279 0.1377883 ]\n",
      " [0.94407197 0.03246214 0.02346589]\n",
      " [0.40346918 0.00844295 0.58808786]]\n"
     ]
    }
   ],
   "source": [
    "from sklearn.linear_model import LogisticRegression \n",
    "from sklearn.metrics import accuracy_score, classification_report, confusion_matrix\n",
    "\n",
    "# Train the model \n",
    "model = LogisticRegression(max_iter = 1000)\n",
    "model.fit(X_train, y_train)\n",
    "y_pred = model.predict_proba(test_df)\n",
    "\n",
    "print(y_pred)\n",
    "\n",
    "# Evaluate the results\n",
    "#print(\"Accuracy:\", accuracy_score(y_test, y_pred))\n",
    "#print(\"Classification Report:\\n\", classification_report(y_test, y_pred))\n",
    "#print(\"Confusion Matrix:\\n\", confusion_matrix(y_test, y_pred))\n"
   ]
  },
  {
   "cell_type": "code",
   "execution_count": 13,
   "id": "3b32d31f",
   "metadata": {
    "execution": {
     "iopub.execute_input": "2023-12-22T03:36:36.391654Z",
     "iopub.status.busy": "2023-12-22T03:36:36.390961Z",
     "iopub.status.idle": "2023-12-22T03:36:36.467973Z",
     "shell.execute_reply": "2023-12-22T03:36:36.466802Z"
    },
    "papermill": {
     "duration": 0.093,
     "end_time": "2023-12-22T03:36:36.471685",
     "exception": false,
     "start_time": "2023-12-22T03:36:36.378685",
     "status": "completed"
    },
    "tags": []
   },
   "outputs": [],
   "source": [
    "# Modify the probability predictions into the submission format \n",
    "submission_df = pd.DataFrame(y_pred, columns=['Status_C', 'Status_CL', 'Status_D'])\n",
    "final_submission_df = pd.concat([test_id_df, submission_df], axis=1)\n",
    "final_submission_df.head(10)\n",
    "\n",
    "# Create a submission.csv file that Kaggle will automatically evaluate for submission\n",
    "final_submission_df.to_csv('submission.csv', index = False)"
   ]
  }
 ],
 "metadata": {
  "kaggle": {
   "accelerator": "none",
   "dataSources": [
    {
     "databundleVersionId": 7000181,
     "sourceId": 60893,
     "sourceType": "competition"
    }
   ],
   "dockerImageVersionId": 30626,
   "isGpuEnabled": false,
   "isInternetEnabled": true,
   "language": "python",
   "sourceType": "notebook"
  },
  "kernelspec": {
   "display_name": "Python 3",
   "language": "python",
   "name": "python3"
  },
  "language_info": {
   "codemirror_mode": {
    "name": "ipython",
    "version": 3
   },
   "file_extension": ".py",
   "mimetype": "text/x-python",
   "name": "python",
   "nbconvert_exporter": "python",
   "pygments_lexer": "ipython3",
   "version": "3.10.12"
  },
  "papermill": {
   "default_parameters": {},
   "duration": 6.34368,
   "end_time": "2023-12-22T03:36:37.102158",
   "environment_variables": {},
   "exception": null,
   "input_path": "__notebook__.ipynb",
   "output_path": "__notebook__.ipynb",
   "parameters": {},
   "start_time": "2023-12-22T03:36:30.758478",
   "version": "2.4.0"
  }
 },
 "nbformat": 4,
 "nbformat_minor": 5
}
